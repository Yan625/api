{
 "cells": [
  {
   "cell_type": "code",
   "execution_count": 1,
   "metadata": {},
   "outputs": [],
   "source": [
    "import requests\n",
    "from requests.auth import HTTPBasicAuth\n",
    "import json"
   ]
  },
  {
   "cell_type": "code",
   "execution_count": 8,
   "metadata": {},
   "outputs": [],
   "source": [
    "#asscess token a340e6c7a9cc5a5f3478bf56f54f6d25caa3ecac\n",
    "header={'Authorization':'a340e6c7a9cc5a5f3478bf56f54f6d25caa3ecac'}"
   ]
  },
  {
   "cell_type": "markdown",
   "metadata": {},
   "source": [
    "**1.github organisation repo**\n",
    "\n",
    "Fetch the all repositories(except Forked repository) of organisation ‘CodingNinjasCodes’ from Github API using OAuth(access token)\n",
    "Print the name of repository with its watch count and fork count."
   ]
  },
  {
   "cell_type": "code",
   "execution_count": 22,
   "metadata": {},
   "outputs": [
    {
     "name": "stdout",
     "output_type": "stream",
     "text": [
      "SmoothScrollJs 16 5\n",
      "RubyTutorial 14 9\n",
      "Python3Tutorial 5 3\n",
      "HTMLandCssNotes 12 20\n",
      "Beacathon 2 8\n",
      "JSNotes 5 6\n",
      "learnml 1 0\n",
      "RubyNotebook 2 5\n",
      "InterQues 62 150\n",
      "coderoom 4 3\n"
     ]
    }
   ],
   "source": [
    "r=requests.get(\"https://api.github.com/orgs/CodingNinjasCodes/repos\",headers=header)\n",
    "data=r.json()\n",
    "for i in data:\n",
    "    if(i['fork']==False):\n",
    "        print(i['name'],i['watchers_count'],i['forks_count'])"
   ]
  },
  {
   "cell_type": "markdown",
   "metadata": {},
   "source": [
    "**2.github organisation member**\n",
    "\n",
    "Fetch all the members of the organisation 'CodingNinjasCodes' from Github API using OAuth(access token).\n",
    "Print the username of members present in organisation."
   ]
  },
  {
   "cell_type": "code",
   "execution_count": 24,
   "metadata": {},
   "outputs": [
    {
     "name": "stdout",
     "output_type": "stream",
     "text": [
      "aakash-cr7\n",
      "dakshkhetan\n",
      "ManishaKhattar\n",
      "namangupta01\n",
      "nidhiagarwal\n",
      "rohanraarora\n"
     ]
    }
   ],
   "source": [
    "r=requests.get(\"https://api.github.com/orgs/CodingNinjasCodes/members\",headers=header)\n",
    "data=r.json()\n",
    "for i in data:\n",
    "    print(i.get('login'))"
   ]
  },
  {
   "cell_type": "markdown",
   "metadata": {},
   "source": [
    "**3.github repo contributors**\n",
    "\n",
    "Fetch the list of contributors in the repository 'CodingNinjasCodes/JSNotes' in Github from Github API using OAuth(access token).\n",
    "Print the username of contributors and its number of commit done."
   ]
  },
  {
   "cell_type": "code",
   "execution_count": 26,
   "metadata": {},
   "outputs": [
    {
     "name": "stdout",
     "output_type": "stream",
     "text": [
      "tushartuteja 5\n",
      "Rawal27 13\n",
      "Sherawat42 15\n"
     ]
    }
   ],
   "source": [
    "r=requests.get(\"https://api.github.com/repos/CodingNinjasCodes/JSNotes/stats/contributors\",headers=header)\n",
    "data=r.json()\n",
    "for i in data:\n",
    "    print(i.get('author').get('login'),i.get('total'))"
   ]
  },
  {
   "cell_type": "markdown",
   "metadata": {},
   "source": [
    "**4.Github repo health**\n",
    "\n",
    "Fetch the health percentage of repository 'CodingNinjasCodes/SmoothScrollJs' in Github from Github API using OAuth(access token).\n",
    "Print the health percentage of Repository as Integer Value."
   ]
  },
  {
   "cell_type": "code",
   "execution_count": 16,
   "metadata": {},
   "outputs": [],
   "source": [
    "header={'Authorization':'a340e6c7a9cc5a5f3478bf56f54f6d25caa3ecac','Accept':'application/vnd.github.black-panther-preview+json'}"
   ]
  },
  {
   "cell_type": "code",
   "execution_count": 27,
   "metadata": {},
   "outputs": [
    {
     "name": "stdout",
     "output_type": "stream",
     "text": [
      "{'health_percentage': 33, 'description': 'Smooth Scroll for all internal links. ', 'documentation': 'https://codingninjascodes.github.io/SmoothScrollJs/', 'files': {'code_of_conduct': None, 'contributing': None, 'issue_template': None, 'pull_request_template': None, 'license': None, 'readme': {'url': 'https://api.github.com/repos/CodingNinjasCodes/SmoothScrollJs/contents/README.md', 'html_url': 'https://github.com/CodingNinjasCodes/SmoothScrollJs/blob/master/README.md'}}, 'updated_at': '2016-11-17T01:35:06Z'}\n",
      "33\n"
     ]
    }
   ],
   "source": [
    "r=requests.get(\"https://api.github.com/repos/CodingNinjasCodes/SmoothScrollJs/community/profile\",headers=header)\n",
    "data=r.json()\n",
    "print(data)\n",
    "print(data['health_percentage'])"
   ]
  },
  {
   "cell_type": "markdown",
   "metadata": {},
   "source": [
    "**5.github all repo**\n",
    "\n",
    "Fetch the all repositories of organisation ‘fossasia’ from Github API using OAuth(access token)\n",
    "Print the name of repository."
   ]
  },
  {
   "cell_type": "code",
   "execution_count": 20,
   "metadata": {},
   "outputs": [
    {
     "name": "stdout",
     "output_type": "stream",
     "text": [
      "x-mario\n",
      "phimpme-android\n",
      "phimpme-drupal\n",
      "xmario_buildscript\n",
      "pslab-case\n",
      "meilix-systemlock\n",
      "fossasia10-drupal\n",
      "fossasia11-drupal\n",
      "blog.fossasia.org\n",
      "2010.fossasia.org\n",
      "2014.fossasia.org\n",
      "meilix\n",
      "phimpme-wordpress\n",
      "2015.fossasia.org\n",
      "badge-magic-android\n",
      "api.fossasia.net\n",
      "directory.api.fossasia.net\n",
      "common.api.fossasia.net\n",
      "cmap.api.fossasia.net\n",
      "feed.api.freifunk.net\n",
      "feed.api.fossasia.net\n",
      "fossasia-communities\n",
      "sg18.sciencehack.asia\n",
      "gci14.fossasia.org\n",
      "fossasia-nodemailer\n",
      "2011.fossasia.org\n",
      "2012.fossasia.org\n",
      "labs.fossasia.org\n",
      "fossasia.net\n",
      "foss.vn\n",
      "libregraphics.asia\n",
      "perspektive89.com\n",
      "susi_smart_box\n",
      "hotelxoai.com\n",
      "yaydoc-artwork\n",
      "fossasia-companion-android\n",
      "loklak_webclient\n",
      "circle-knitting\n",
      "open-event-attendee-android\n",
      "2018.fossasia.org\n",
      "open-event\n",
      "open-event-droidgen\n",
      "open-event-wsgen\n",
      "open-event-server\n",
      "knitweb\n",
      "knitpat\n",
      "knitlib\n",
      "pslab-expeyes\n",
      "timeline.api.fossasia.net\n",
      "2016.fossasia.org\n",
      "fossasia.org\n",
      "pslab.io\n",
      "wp.api.fossasia.net\n",
      "knitserver\n",
      "sciencehack.asia\n",
      "loklak_wok_android\n",
      "gci15.fossasia.org\n",
      "gci17.fossasia.org\n",
      "flappy-svg\n",
      "loklak-webtweets\n",
      "loklak_tweetheatmap\n",
      "unesco.sciencehack.asia\n",
      "neurolab-hardware\n",
      "loklak_movietweets\n",
      "loklak_heatmap\n",
      "fossasia-webfeeds\n",
      "fossasia.github.io\n",
      "jugaadfest.com\n",
      "open-event-scraper\n",
      "open-event-attendee-ios\n",
      "fossasia-artwork\n",
      "2017.fossasia.org\n",
      "engelsystem\n",
      "knittingpattern\n",
      "CommonsNet\n",
      "wp-tweets-widget\n",
      "wp-recent-tweet\n",
      "pslab-python\n",
      "pslab-desktop\n",
      "wp-easy-twitter-plugin\n",
      "wp-tweet-feed-plugin\n",
      "loklak_walls\n",
      "wp-accesspress-twitter-feed\n",
      "wp-rotatingtweets\n",
      "wp-twitter-feeds\n",
      "coc.fossasia.org\n",
      "2009.fossasia.org\n",
      "badgemagic.fossasia.org\n",
      "2020.fossasia.org\n",
      "wp-ai-twitter-feeds\n",
      "kniteditor\n",
      "badge-magic-ios\n",
      "wp-juiz-last-tweet-widget\n",
      "wp-twidget\n",
      "wp-dev-buddy\n",
      "loklak_tweetsearch_android\n",
      "susi.ai\n",
      "AYABInterface\n",
      "susi_slackbot\n",
      "sciencehack.in\n",
      "loklak_wp_plugins\n",
      "2018.codeheat.org\n",
      "Xoai-Artwork\n",
      "lxde-artwork\n",
      "lubuntu-artwork\n",
      "knitting.fossasia.org\n",
      "KikiAuth\n",
      "lxlauncher-vala\n",
      "x-mario-center\n",
      "events.fossasia.org\n",
      "open-event-organizer-android\n",
      "2013.fossasia.org\n",
      "gci16.fossasia.org\n",
      "susper-backbone\n",
      "loklak_heatmapper\n",
      "loklak_telegrambot\n",
      "susi_server\n",
      "codeheat.org\n",
      "loklak_search\n",
      "susi_fbbot\n",
      "susi_telegrambot\n",
      "susi_android\n",
      "calendar.fossasia.org\n",
      "sciencehack-artwork\n",
      "susi_kikbot\n",
      "susi_artwork\n",
      "dev.susi.ai\n",
      "fossbridge-artwork\n",
      "searss\n",
      "tofsims\n",
      "mbdyn-gci\n",
      "susi_tweetbot\n",
      "query-server\n",
      "green-park-2\n",
      "susi_wechatbot\n",
      "event-collect\n",
      "loklak_EmojiTracker\n",
      "geolocation\n",
      "susi_desktop\n",
      "support.eventyay.com\n",
      "susper.com\n",
      "susi_iOS\n",
      "pslab-firmware\n",
      "pslab-hardware\n",
      "pslab-android\n",
      "star-me\n",
      "jobs.fossasia.org\n",
      "susi_api_wrapper\n",
      "open-event-frontend\n",
      "susi_viberbot\n",
      "susi_linux\n",
      "asksusi\n",
      "admin.susi.ai\n",
      "open-event-theme\n",
      "susi_skill_data\n",
      "susi_skill_cms\n",
      "yaydoc\n",
      "susi_linebot\n",
      "connfa-android\n",
      "susi_skypebot\n",
      "loklak_scraper_js\n",
      "arch-travis\n",
      "mew\n",
      "loklak_publisher\n",
      "meilix-generator\n",
      "badgeyay\n",
      "accounts.susi.ai\n",
      "susi_gitterbot\n",
      "giggity\n",
      "giraffe\n",
      "MMM-SUSI-AI\n",
      "susi_alexa_skill\n",
      "susi_cortana_skill\n",
      "sphinx_fossasia_theme\n",
      "mvisc\n",
      "susi_gassistantbot\n",
      "loklak-timeline-plugin\n",
      "pslab-webapp\n",
      "susi_hangoutbot\n",
      "sphinx_susiai_theme\n",
      "phimpme-artwork\n",
      "pslab-artwork\n",
      "2016.codeheat.org\n",
      "2017.codeheat.org\n",
      "susi_chromebot\n",
      "susi_firefoxbot\n",
      "opendesign.asia\n",
      "sciencetech.asia\n",
      "sphinx_phimpme_theme\n",
      "scrum_helper\n",
      "open-event-legacy\n",
      "meilix-artwork\n",
      "eventyay-artwork\n",
      "jugaadfest-artwork\n",
      "neurolab-android\n",
      "codeheat-artwork\n",
      "neurolab-firmware\n",
      "open-event-organizer-ios\n",
      "pslab-documentation\n",
      "publiccode.asia\n",
      "labyrinth\n",
      "Flask_Simple_Form\n",
      "Ember_Simple_Calculator\n",
      "2019.fossasia.org\n",
      "Connect-Me\n",
      "dmca\n",
      "meilix.org\n",
      "flask-rest-jsonapi\n",
      "susi_twitchbot\n",
      "susi_zulipbot\n",
      "snowboy\n",
      "gci18.fossasia.org\n",
      "pi-gen\n",
      "jp.pslab.io\n",
      "in.pslab.io\n",
      "fossasia-jekyll-theme\n",
      "fossasia.sg\n",
      "pslab-iOS\n",
      "summit.fossasia.org\n",
      "photos.fossasia.org\n",
      "susi_installer\n",
      "susi_python\n",
      "susi_speech_server\n",
      "FOSSASIA-Office\n",
      "temp\n",
      "fossasia.tw\n",
      "orgmanager\n",
      "hyderabad.jugaadfest.com\n",
      "delhi.jugaadfest.com\n",
      "speech_recognition\n",
      "led-name-badge-ls32\n",
      "Event-Safety-Measures\n"
     ]
    }
   ],
   "source": [
    "for j in range(1,9):\n",
    "    params={'type':'all',\"page\":j}\n",
    "    r=requests.get(\"https://api.github.com/orgs/fossasia/repos\",data=header,params=params)\n",
    "    data=r.json()\n",
    "    for i in data:\n",
    "        print(i['name'])"
   ]
  },
  {
   "cell_type": "code",
   "execution_count": null,
   "metadata": {},
   "outputs": [],
   "source": []
  }
 ],
 "metadata": {
  "kernelspec": {
   "display_name": "Python 3",
   "language": "python",
   "name": "python3"
  },
  "language_info": {
   "codemirror_mode": {
    "name": "ipython",
    "version": 3
   },
   "file_extension": ".py",
   "mimetype": "text/x-python",
   "name": "python",
   "nbconvert_exporter": "python",
   "pygments_lexer": "ipython3",
   "version": "3.7.3"
  }
 },
 "nbformat": 4,
 "nbformat_minor": 2
}
