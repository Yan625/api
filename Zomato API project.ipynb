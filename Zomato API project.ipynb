{
 "cells": [
  {
   "cell_type": "markdown",
   "metadata": {},
   "source": [
    "# Project Details\n",
    "\n",
    "    1.For this project, we are using the Zomato API.\n",
    "    \n",
    "    2.Zomato APIs give you access to the freshest and most exhaustive information for over 1.5 million restaurants across 10,000 cities globally.\n",
    "\n",
    "    3.Zomato API documentation link:https://developers.zomato.com/api\n",
    "\n",
    "    4.Our Motivation for using Zomato API:\n",
    "    \n",
    "        4.1 By Collecting the data using Zomato API one can recommend restaurants on the basis of user’s affinity to specific cuisines, establishment types, locations, and price bands.\n",
    "    \n",
    "        4.2 We can find out whether restaurant support online reservation or not.\n",
    "    \n",
    "        4.3 We can find what is the most popular and/ or exclusive/new at a given location & time."
   ]
  },
  {
   "cell_type": "markdown",
   "metadata": {},
   "source": [
    "### 1.Zomato cuisine problem details\n",
    "\n",
    "    1. Mexican cuisine began about 9,000 years ago, when agricultural communities such as the Maya formed, domesticating maize, creating the standard process of corn nixtamalization, and establishing their foodways.\n",
    "    \n",
    "    2. You are a huge fan of ‘Mexican’ cuisine. Now using the Zomato API you want to analyse the best restaurant serving the Mexican Cuisine, their locations, and cost for two, etc.\n",
    "    \n",
    "    3. There is a list of questions related to Mexican cuisines given in the next section."
   ]
  },
  {
   "cell_type": "markdown",
   "metadata": {},
   "source": [
    "#### 1.1) Fetch the cuisine_id of ‘Mexican’ cuisine using Zomato API."
   ]
  },
  {
   "cell_type": "code",
   "execution_count": 20,
   "metadata": {},
   "outputs": [
    {
     "name": "stdout",
     "output_type": "stream",
     "text": [
      "73\n"
     ]
    }
   ],
   "source": [
    "import requests\n",
    "user_key='3754f0440b3026cde542ed69af9f499a'\n",
    "basic_api='https://developers.zomato.com/api/v2.1'\n",
    "header={'User-agent':\"curl/7.43.0\",\"Accept\":\"application/json\",'user-key':user_key}\n",
    "params={'city_id':1}\n",
    "response=requests.get(basic_api+'/cuisines',headers=header,params=params)\n",
    "cuisine_id=0\n",
    "for i in response.json().get('cuisines'):\n",
    "    if(i.get('cuisine').get('cuisine_name')=='Mexican'):\n",
    "        cuisine_id=i.get('cuisine').get('cuisine_id')\n",
    "print(cuisine_id)"
   ]
  },
  {
   "cell_type": "markdown",
   "metadata": {},
   "source": [
    "#### 1.2) Fetch the entityid and entitytype of place Connaught Place.\n"
   ]
  },
  {
   "cell_type": "code",
   "execution_count": 5,
   "metadata": {},
   "outputs": [
    {
     "name": "stdout",
     "output_type": "stream",
     "text": [
      "subzone 104\n"
     ]
    }
   ],
   "source": [
    "params1={'query':'Connaught Place'}\n",
    "response=requests.get(basic_api+'/locations',headers=header,params=params1)\n",
    "entity_id=response.json().get('location_suggestions')[0].get('entity_id')\n",
    "entity_type=response.json().get('location_suggestions')[0].get('entity_type')\n",
    "print(entity_type,entity_id)"
   ]
  },
  {
   "cell_type": "markdown",
   "metadata": {},
   "source": [
    "#### 1.3) Fetch the top 10 best-rated restaurant serving ‘Mexican’ cuisine present in Connaught Place."
   ]
  },
  {
   "cell_type": "code",
   "execution_count": 19,
   "metadata": {},
   "outputs": [
    {
     "name": "stdout",
     "output_type": "stream",
     "text": [
      "38 Barracks 4.6 18241537\n",
      "Chili's Grill & Bar 4.6 18537536\n",
      "Ministry Of Beer 4.5 18418277\n",
      "Xero Degrees 4.4 18729557\n",
      "Farzi Cafe 4.3 18233593\n",
      "Bunta Bar Live 4.3 18623406\n",
      "Excuse Me Boss 4.2 307036\n",
      "Punjabi By Nature 4.2 306497\n",
      "The Art House Bar n Cafe 4.2 18863766\n",
      "Firangi Bake 4.2 18534147\n"
     ]
    }
   ],
   "source": [
    "params2={'entity_id':104,'entity_type':'subzone','sort':'rating','cuisines':73,'count':10}\n",
    "response=requests.get(basic_api+'/search',headers=header,params=params2)\n",
    "for i in response.json().get('restaurants'):\n",
    "    print(i.get('restaurant').get('name'),i.get('restaurant').get('user_rating').get('aggregate_rating'),\n",
    "         i.get('restaurant').get('R').get('res_id'))"
   ]
  },
  {
   "cell_type": "markdown",
   "metadata": {},
   "source": [
    "#### 1.4) Fetch the category id of category type ‘Cafes’ using Zomato API."
   ]
  },
  {
   "cell_type": "code",
   "execution_count": 21,
   "metadata": {},
   "outputs": [
    {
     "name": "stdout",
     "output_type": "stream",
     "text": [
      "6\n"
     ]
    }
   ],
   "source": [
    "response=requests.get(basic_api+'/categories',headers=header)\n",
    "setablishment_id=0\n",
    "for i in response.json().get('categories'):\n",
    "    if(i.get('categories').get('name')=='Cafes'):\n",
    "        establishment_id=i.get('categories').get('id')\n",
    "print(establishment_id)"
   ]
  },
  {
   "cell_type": "markdown",
   "metadata": {},
   "source": [
    "#### 1.5) Fetch the best-rated restaurant for ‘Mexican’ cuisine with category type ‘ Cafes’ present in Connaught Place using Zomato API."
   ]
  },
  {
   "cell_type": "code",
   "execution_count": 48,
   "metadata": {},
   "outputs": [
    {
     "name": "stdout",
     "output_type": "stream",
     "text": [
      "Xero Degrees 4.4 18729557\n",
      "The Art House Bar n Cafe 4.2 18863766\n"
     ]
    }
   ],
   "source": [
    "params3={'entity_id':104,'entity_type':'subzone','sort':'rating','cuisines':73,'count':10,'category':'cafe'}\n",
    "response=requests.get(basic_api+'/search',headers=header,params=params3)\n",
    "response.json().get('restaurants')\n",
    "for i in response.json().get('restaurants'):\n",
    "    if i.get('restaurant').get('establishment')==['Café']:\n",
    "        print(i.get('restaurant').get('name'),i.get('restaurant').get('user_rating').get('aggregate_rating'),i.get('restaurant').get('R').get('res_id'))"
   ]
  },
  {
   "cell_type": "markdown",
   "metadata": {},
   "source": [
    "#### 1.6) Fetch the latest review of the best-rated restaurant for ‘Mexican’ cuisine with Category type ‘Cafes’ present in Connaught Place"
   ]
  },
  {
   "cell_type": "code",
   "execution_count": 45,
   "metadata": {},
   "outputs": [
    {
     "name": "stdout",
     "output_type": "stream",
     "text": [
      "Sonali 5 Xero degree is one of my favourite place. The ambience is small but it is amazing. I love there food and presentation even when they do home delivery. The all food 🥘 served their are mouth watering and look fresh. the shakes and coolent are just amazing And peri peri cheezy fries and white sauce pasta are my favourite. And they serve a very different pizza that is jar pizza which they serves in jar with full of cheese 🧀. Highly recommended place.\n",
      "Ayush Bhagat 5 \n",
      "Thefoodiekaur 4 \n",
      "Shivansh 4 \n",
      "Temptingtastebuds__ 5 This outlet of xero degrees in connaught place, One of my most recommended place . Pocket friendly,comfortable seating area and polite staff. They serve food on time. Totally clean and hygienic place. I ordered here jar pizza and it is filled with cheese and I just loved it. Must hit this place with your friends.\n"
     ]
    }
   ],
   "source": [
    "params4={'res_id':18729557}\n",
    "response=requests.get(basic_api+'/reviews',headers=header,params=params4)\n",
    "for i in response.json().get('user_reviews'):\n",
    "    print(i.get('review').get('user').get('name'),i.get('review').get('rating'),i.get('review').get('review_text'))\n",
    "    "
   ]
  },
  {
   "cell_type": "markdown",
   "metadata": {},
   "source": [
    "### 2. Zomato restaurant Problem Detail\n",
    "\n",
    "    1. 736 AD is Brick-walled lounge bar serving international dishes and a range of cocktails and shooters.\n",
    "    \n",
    "    2. You have heard from your friends that restaurant 736 A.D is quite good. So Now you want to extract the information related to restaurant 736 A.D using Zomato API.\n",
    "    \n",
    "    3. There is a list of questions related to restaurant 736 AD given in the next section."
   ]
  },
  {
   "cell_type": "markdown",
   "metadata": {},
   "source": [
    "#### 2.1 Fetch the details of restaurant 736 AD.\n",
    "\n",
    "    Print the user rating, average cost for two, cuisines and address of 736 AD."
   ]
  },
  {
   "cell_type": "code",
   "execution_count": 51,
   "metadata": {},
   "outputs": [
    {
     "name": "stdout",
     "output_type": "stream",
     "text": [
      "4.3\n",
      "1400\n",
      "North Indian, Continental, Italian, Chinese\n",
      "G-15/B, Vijay Nagar, New Delhi\n"
     ]
    }
   ],
   "source": [
    "params5={'res_id':18241524}\n",
    "response=requests.get(basic_api+'/restaurant',headers=header,params=params5)\n",
    "data=response.json()\n",
    "\n",
    "address=data.get('location').get('address')\n",
    "cuisines=data.get('cuisines')\n",
    "rating=data.get('user_rating').get('aggregate_rating')\n",
    "average_cost=data.get('average_cost_for_two')\n",
    "\n",
    "print(rating)\n",
    "print(average_cost)\n",
    "print(cuisines)\n",
    "print(address)"
   ]
  },
  {
   "cell_type": "markdown",
   "metadata": {},
   "source": [
    "#### 2.2 Find out whether online table reservation is supported in 736 AD or not using Zomato API.\n",
    "\n",
    "Print 'yes' if online table reservation is supported else 'no'"
   ]
  },
  {
   "cell_type": "code",
   "execution_count": 52,
   "metadata": {},
   "outputs": [
    {
     "name": "stdout",
     "output_type": "stream",
     "text": [
      "no\n"
     ]
    }
   ],
   "source": [
    "reservation=data.get('is_table_reservation_supported')\n",
    "if reservation==1:\n",
    "    print('yes')\n",
    "else:\n",
    "    print('no')"
   ]
  },
  {
   "cell_type": "markdown",
   "metadata": {},
   "source": [
    "#### 2.3 Fetch the latest review of restaurant 736 AD using Zomato API.\n",
    "\n",
    "Print the name of user ,user rating and review text."
   ]
  },
  {
   "cell_type": "code",
   "execution_count": 53,
   "metadata": {},
   "outputs": [
    {
     "name": "stdout",
     "output_type": "stream",
     "text": [
      "Lavanya Kv 4 \n",
      "Foodieszonee 4 It’s a very nice place to hangout and has a very nice ambience, great dj and the food was very good must try white sauce pasta.  Good and fast service also reasonable price.\n",
      "Prerana Verma 5 \n",
      "NKK 4 The food here was very good. They had a good variety. Ambiance was very cosy and perfect for a date. Must try place for good and shakes.   Food 4/5 Staff 3/5\n",
      "Sonali Garg 5 Last week my exams got over and we all friends decided to visit here. As 736 AD is a very good restaurant so we visited here. The menu consists of many varieties of dishes and we selected some common dishes like: 1. Veg platter 2. Veg manchurian  3. Tandoori momos  4. Cheese nachos 5. Salt and pepper 6. Mocktails and shakes  The food here was so delicious and wonderful. Ambiance was beautiful and service was at its best. I really enjoyed there and I highly recommend this restaurant to visit once.\n"
     ]
    }
   ],
   "source": [
    "response=requests.get(basic_api+'/reviews',headers=header,params=params5)\n",
    "data=response.json()\n",
    "for i in data.get('user_reviews'):\n",
    "    print(i.get('review').get('user').get('name'),i.get('review').get('rating'),i.get('review').get('review_text'))                    "
   ]
  },
  {
   "cell_type": "markdown",
   "metadata": {},
   "source": [
    "### 3. Zomato Distance Problem\n",
    "\n",
    "    1. Distance is also a very important factor while selecting a restaurant. Suppose you are at Coding Ninjas and you want to select the restaurant which is near to you using Zomato API.\n",
    "\n",
    "    2. Note down the latitude and longitude of Coding Ninjas using Google Maps\n",
    "\n",
    "    3. There is a list of questions related to restaurant near me given in the next section."
   ]
  },
  {
   "cell_type": "markdown",
   "metadata": {},
   "source": [
    "#### 3.1 Fetch the cuisine_id of of cuisine ‘BBQ’ using Zomato API."
   ]
  },
  {
   "cell_type": "code",
   "execution_count": null,
   "metadata": {},
   "outputs": [],
   "source": [
    "import requests\n",
    "user_key='3754f0440b3026cde542ed69af9f499a'\n",
    "basic_api='https://developers.zomato.com/api/v2.1'\n",
    "header={'User-agent':\"curl/7.43.0\",\"Accept\":\"application/json\",'user-key':user_key}\n",
    "params={'city_id':1}\n",
    "response=requests.get(basic_api+'/cuisines',headers=header,params=params)\n",
    "cuisine_id=0\n",
    "for i in response.json().get('cuisines'):\n",
    "    if(i.get('cuisine').get('cuisine_name')=='BBQ'):\n",
    "        cuisine_id=i.get('cuisine').get('cuisine_id')\n",
    "print(cuisine_id)"
   ]
  },
  {
   "cell_type": "markdown",
   "metadata": {},
   "source": [
    "#### 3.2 Fetch the list of the top 10 restaurants serving cuisine ‘BBQ’ which are nearest to Coding Ninjas.\n",
    "\n",
    "    Print the restaurant name, user rating, restaurant id and locality in which restaurant is present."
   ]
  },
  {
   "cell_type": "code",
   "execution_count": 59,
   "metadata": {},
   "outputs": [
    {
     "name": "stdout",
     "output_type": "stream",
     "text": [
      "Themis Barbecue House 4.5 18204820 Netaji Subhash Place\n",
      "Barbeque Nation 4.1 9561 Netaji Subhash Place\n",
      "New Bombay Bar-Be-Que 3.6 5303 Prashant Vihar\n",
      "Amazings Kitchen 0 19370424 Prashant Vihar\n",
      "UBQ by Barbeque Nation 3.7 19082741 Lawrence Road\n",
      "Moet's Barbeque 0 19238917 Alipur\n",
      "UBQ by Barbeque Nation 3.8 18889760 Rohini\n",
      "Kays Bar-Be-Que 3.8 3079 Ashok Vihar Phase 1\n",
      "7teen BBQ Bistro Bnq 3.8 18595610 Moti Nagar\n",
      "Pishori Chicken 0 19061375 Kirti Nagar\n"
     ]
    }
   ],
   "source": [
    "params6={'lat':\"28.697522\",'lon':\"77.140681\",'cuisines': 193,'sort':'real_distance','count':10}\n",
    "response=requests.get(basic_api+'/search',headers=header,params=params6)\n",
    "data=response.json()\n",
    "for i in data.get('restaurants'):\n",
    "    print(i.get('restaurant').get('name'),i.get('restaurant').get('user_rating').get('aggregate_rating'),\n",
    "         i.get('restaurant').get('R').get('res_id'),i.get('restaurant').get('location').get('locality'))"
   ]
  },
  {
   "cell_type": "markdown",
   "metadata": {},
   "source": [
    "#### 3.3 Fetch the latest review of the restaurant serving cuisine ‘BBQ’ which is most nearest to Coding ninjas?\n",
    "    Print the name of user ,user rating and review text."
   ]
  },
  {
   "cell_type": "code",
   "execution_count": 60,
   "metadata": {},
   "outputs": [
    {
     "name": "stdout",
     "output_type": "stream",
     "text": [
      "ANNANT VASHIST 5 I celebrated my bday in Themis barbecue . I enjoyed a lot and the staff was really good nd the food is very delicious .\n",
      "Thatcravingfoodie 4 Visited them last month. On entering, you realise that the indoor seating area is not that spacious. I wanted to be seated outdoors, but then it's only allowed for dinner time. I wasn't very taken by the ambiance.  Coming to the food, I opted for the non-vegetarian buffet option. For drinks, I chose a litchi based mocktail. You could also go for beer or whisky which I think I should have chosen too, now that I think of it. But there's no use crying over spilled milk now. So coming back to my litchi mocktail, let me say it was awesome. Tart and sweet and zingy. Was a pleasant accompaniment to the starters. I really liked the chilly fish, chicken tikka, crispy corn. Cajun potatoes lacked that kick and mutton seekh was really dry. The paneer tikka too wasn't flavourful enough. And the pizza base was very tough.  The main course was so delicious. I am a manchow soup lover. And I helped myself to bowls of the veg manchow soup. Then I came across chicken hot and sour soup and gobbled that up too. I also tried different salads I think you could and should skip them. The chicken biryani and mutton rogan josh warmed up my soul with their distinctly spiced flavours. The biryani deserves special mention with the overwhelming aroma of whole spices and chunky chicken pieces. The rogan josh curry was hot and spicy and I was satisfied then and there. Nevertheless, greed occupied me again while going through other dishes and this time I helped myself to hakka chowmein and stir fried veggies in basil chilly sauce (yeah it's veg. Don't be surprised). The veggie gravy was utterly savoury and had so much going on. Sweet, sour, salty, that fresh basil hit. And by then I realised I was almost full and had to end my main course eating spree.  Coming to desserts, gulab jamuns were soul warming. The chocolate pastry was lush and bitter and kept me wanting more. The tarts were creamy and crumbley. Delicious. Moong dal halwa was all ghee and nuts and heavenly. And the strawberry ice cream was creamy and screamed fresh strawberries and not the artificial colour and flavour stuff.  Overall, it was a decent experience. Although I think cutting out the live music part during afternoons wouldn't be a bad idea afterall. It felt kinda loud and claustrophobic. The service was not bad. The prices were moderate. I paid 1300+ for two non-veg lunch buffets.\n",
      "Medhavi 5 Enjoyed a wide range of dishes at this buffet outlet with aesthetic interiors and designer exteriors. Scrumptious barbeque starters with grilled chicken,fish tikka in skewers on the table. Sipped on a variety of mocktails plus the singer was there to entertain throughout our time there. The main course dishes were made very well with excellent sea food, dum biryani , paneer dishes, types of breads and exquisite desserts to choose from namely white chocolate brownie , pineapple pastries , truffle cake and cut fruits. Would definitely recommend to one and all.\n",
      "Piyush Matreja 5 Live singing, spectacular ambience and every one enjoying to the grilled kebabs on their table, that's Themis barbeque all about. Based on the concept of buffet where you start with snacks on the table with cool mocktails. I tried the lemon ice tea and charred prawns tikka as well as chicken malai tikka ,their non veg starters were great. Main course I had mutton rogan josh with lachha parantha and enjoyed a few of my favourite desserts namely strawberry tarts and a chocolate truffle cake with cherries. I must say that was a good lunch I relished after long.\n",
      "Kimaya Divya 5 A place offering a buffet concept in the northern part of Delhi, with live music , a dj set up, comfortable seating. They have a set up of a grill hot plate with food grilled on skewers. We opted for non veg set up and ate prawns , chicken malai tikka , tandoori chicken in the hot portion, while chilly fish ,pizzas and mutton seekh kebab were served separately. The main course had lots of variety with dal Makhani, paneer kadhai , mix vegetable, chicken pilaf ,mutton rogan josh. The restaurant did their level best and made our time a memorable one.\n"
     ]
    }
   ],
   "source": [
    "params7={'res_id':18204820}\n",
    "response=requests.get(basic_api+'/reviews',headers=header,params=params7)\n",
    "data=response.json()\n",
    "for i in data.get('user_reviews'):\n",
    "    print(i.get('review').get('user').get('name'),i.get('review').get('rating'),i.get('review').get('review_text'))"
   ]
  },
  {
   "cell_type": "markdown",
   "metadata": {},
   "source": [
    "#### 3.4 Experiment with the radius parameter that is present in ‘GET/search’. Fetch the list of top 10 best-restaurant present in a radius of 4 km of coding ninjas.\n",
    "    Print the restaurant name, user rating, restaurant id and locality in which restaurant is present."
   ]
  },
  {
   "cell_type": "code",
   "execution_count": 62,
   "metadata": {},
   "outputs": [
    {
     "name": "stdout",
     "output_type": "stream",
     "text": [
      "Oishii Wok 4.9 19078918 DLF Phase 4\n",
      "Indian Accent 4.9 2004 The Lodhi, Lodhi Road\n",
      "Son Of A Bun 4.9 19300210 Golf Course Road\n",
      "Dana Choga 4.9 549 Sector 14\n",
      "Chili's Grill & Bar 4.9 18607069 Pacific Mall, Tagore Garden\n",
      "The Tandoori Tales 4.9 19231934 Sector 45\n",
      "Shanghai Surprise 4.9 19139037 DLF Phase 3\n",
      "Ah So Yum 4.8 18945610 Golf Course Road\n",
      "Master Koii's 4.8 18819947 Sushant Lok\n",
      "Chili's Grill & Bar 4.8 4751 Ambience Mall, Vasant Kunj\n"
     ]
    }
   ],
   "source": [
    "params8={'lat':\"28.697522\",'lon':\"77.140681\",'radius':4000,'sort':'rating','count':10}\n",
    "response=requests.get(basic_api+'/search',headers=header,params=params8)\n",
    "data=response.json()\n",
    "for i in data.get('restaurants'):\n",
    "    print(i.get('restaurant').get('name'),i.get('restaurant').get('user_rating').get('aggregate_rating'),\n",
    "         i.get('restaurant').get('R').get('res_id'),i.get('restaurant').get('location').get('locality'))"
   ]
  }
 ],
 "metadata": {
  "kernelspec": {
   "display_name": "Python 3",
   "language": "python",
   "name": "python3"
  },
  "language_info": {
   "codemirror_mode": {
    "name": "ipython",
    "version": 3
   },
   "file_extension": ".py",
   "mimetype": "text/x-python",
   "name": "python",
   "nbconvert_exporter": "python",
   "pygments_lexer": "ipython3",
   "version": "3.7.3"
  }
 },
 "nbformat": 4,
 "nbformat_minor": 2
}
